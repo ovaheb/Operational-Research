{
 "cells": [
  {
   "cell_type": "markdown",
   "metadata": {},
   "source": [
    "# Operation Research Fall 99 <img src = 'https://ece.ut.ac.ir/cict-theme/images/footer-logo.png' alt=\"Tehran-University-Logo\" width=\"150\" height=\"150\" align=\"right\">\n",
    "## Final Project\n",
    "### Dr. Mohammad Shokri\n",
    "### By Omid Vaheb, Amirhossein Nazer, and Somayeh Gashtasbi"
   ]
  },
  {
   "cell_type": "markdown",
   "metadata": {},
   "source": [
    "First of al, we import required libraries which is only MIP. Python MIP is a collection of Python tools for the modeling and solution of Mixed-Integer Linear programs (MIPs). MIP syntax was inspired by Pulp."
   ]
  },
  {
   "cell_type": "code",
   "execution_count": 89,
   "metadata": {},
   "outputs": [],
   "source": [
    "import mip\n",
    "from mip import Model, xsum, minimize, BINARY"
   ]
  },
  {
   "cell_type": "markdown",
   "metadata": {},
   "source": [
    "Then we define 2 dictionaries: d for cities or demands and M for power plants or sources."
   ]
  },
  {
   "cell_type": "code",
   "execution_count": 90,
   "metadata": {},
   "outputs": [],
   "source": [
    "d = {4:1710, 6:467, 10:383, 11:226, 14:1129, 15:2917, 16:411, 18:281, 20:949, 21:325}\n",
    "M = {1:456, 2:460, 3:3055, 5:223, 7:334, 8:4000, 9:203, 12:250, 13:3271, 17:1400, 19:1457, 22:415, 23:330}"
   ]
  },
  {
   "cell_type": "markdown",
   "metadata": {},
   "source": [
    "We also define 2 lists showing indexes of these cities and power plants."
   ]
  },
  {
   "cell_type": "code",
   "execution_count": 91,
   "metadata": {},
   "outputs": [],
   "source": [
    "I = [4, 6, 10, 11, 14, 15, 16, 18, 20, 21]\n",
    "J = [1, 2, 3, 5, 7, 8, 9, 12, 13, 17, 19, 22, 23]"
   ]
  },
  {
   "cell_type": "markdown",
   "metadata": {},
   "source": [
    "Then we define a dictionary called c which consists of lenghts between nodes of our graph, cities and power plants."
   ]
  },
  {
   "cell_type": "code",
   "execution_count": 92,
   "metadata": {},
   "outputs": [],
   "source": [
    "c = {(1,4):842, (2,4):886, (3,4):74, (4,6):282, (5,6):450, (6,10):94, (7,10):220, (10,19):400, (10,14):124, (8,11):546,\n",
    "     (9,11):52, (11,12):545, (11,13):95, (11,14):95, (11,15):125, (13,15):119, (14,15):63, (10,15):100, (15,16):90,\n",
    "     (10,18):312, (16,18):210, (16,17):96, (17,18):215, (3,21):165, (4,21):214, (4,18):144, (21,22):1015, (20,21):210,\n",
    "     (18,21):235, (18,20):356, (20,23):878}"
   ]
  },
  {
   "cell_type": "markdown",
   "metadata": {},
   "source": [
    "The next step is to define number of bundles for each power transmission line."
   ]
  },
  {
   "cell_type": "code",
   "execution_count": 93,
   "metadata": {},
   "outputs": [],
   "source": [
    "B = {(1,4):2, (2,4):2, (3,4):2, (4,6):2, (5,6):2, (6,10):1, (7,10):2, (10,19):2, (10,14):1, (8,11):2, (9,11):1, (11,12):2,\n",
    "     (11,13):2, (11,14):1, (11,15):2, (13,15):2, (14,15):2, (10,15):1, (15,16):2, (10,18):2, (16,18):2, (16,17):2,\n",
    "     (17,18):2, (3,21):2, (4,21):2, (4,18):2, (21,22):2, (20,21):1, (18,21):2, (18,20):2, (20,23):2}"
   ]
  },
  {
   "cell_type": "markdown",
   "metadata": {},
   "source": [
    "Now we add variables which are the power transmiting between lines. First we add the lines between power plants and cities."
   ]
  },
  {
   "cell_type": "code",
   "execution_count": 94,
   "metadata": {},
   "outputs": [],
   "source": [
    "model = mip.Model()\n",
    "x = {}\n",
    "for i in I:\n",
    "    for j in J:\n",
    "        if ((i,j) in c or (j,i) in c) and not ((i,j) in x or (j,i) in x):\n",
    "            if i > j:\n",
    "                x[j,i] = model.add_var(var_type = mip.INTEGER)\n",
    "            else:\n",
    "                x[i,j] = model.add_var(var_type = mip.INTEGER)"
   ]
  },
  {
   "cell_type": "markdown",
   "metadata": {},
   "source": [
    "Now is the time to add the lines between cities."
   ]
  },
  {
   "cell_type": "code",
   "execution_count": 95,
   "metadata": {},
   "outputs": [],
   "source": [
    "for i in I:\n",
    "    for j in I:\n",
    "        if ((i,j) in c or (j,i) in c) and not ((i,j) in x or (j,i) in x):\n",
    "                x[j,i] = model.add_var(var_type = mip.INTEGER)\n",
    "                x[i,j] = model.add_var(var_type = mip.INTEGER)"
   ]
  },
  {
   "cell_type": "markdown",
   "metadata": {},
   "source": [
    "Now we add the constraints regarding this problem. First and foremost, we write the constraint for each city in which sum of edges going to city minus sum of edges coming from it, is equal or higher than demand of that city."
   ]
  },
  {
   "cell_type": "code",
   "execution_count": 96,
   "metadata": {},
   "outputs": [
    {
     "name": "stdout",
     "output_type": "stream",
     "text": [
      "4,6\n",
      "-6,4\n",
      "4,18\n",
      "-18,4\n",
      "4,21\n",
      "-21,4\n",
      "1,4\n",
      "2,4\n",
      "3,4\n",
      "**********\n",
      "6,4\n",
      "-4,6\n",
      "6,10\n",
      "-10,6\n",
      "5,6\n",
      "**********\n",
      "10,6\n",
      "-6,10\n",
      "10,14\n",
      "-14,10\n",
      "10,15\n",
      "-15,10\n",
      "10,18\n",
      "-18,10\n",
      "7,10\n",
      "10,19\n",
      "**********\n",
      "11,14\n",
      "-14,11\n",
      "11,15\n",
      "-15,11\n",
      "8,11\n",
      "9,11\n",
      "11,12\n",
      "11,13\n",
      "**********\n",
      "14,10\n",
      "-10,14\n",
      "14,11\n",
      "-11,14\n",
      "14,15\n",
      "-15,14\n",
      "**********\n",
      "15,10\n",
      "-10,15\n",
      "15,11\n",
      "-11,15\n",
      "15,14\n",
      "-14,15\n",
      "15,16\n",
      "-16,15\n",
      "13,15\n",
      "**********\n",
      "16,15\n",
      "-15,16\n",
      "16,18\n",
      "-18,16\n",
      "16,17\n",
      "**********\n",
      "18,4\n",
      "-4,18\n",
      "18,10\n",
      "-10,18\n",
      "18,16\n",
      "-16,18\n",
      "18,20\n",
      "-20,18\n",
      "18,21\n",
      "-21,18\n",
      "17,18\n",
      "**********\n",
      "20,18\n",
      "-18,20\n",
      "20,21\n",
      "-21,20\n",
      "20,23\n",
      "**********\n",
      "21,4\n",
      "-4,21\n",
      "21,18\n",
      "-18,21\n",
      "21,20\n",
      "-20,21\n",
      "3,21\n",
      "21,22\n",
      "**********\n"
     ]
    }
   ],
   "source": [
    "for i in I:\n",
    "    constraints = []\n",
    "    constraints2 = []\n",
    "    for j in I + J:\n",
    "        if (i,j) in x and (j,i) in x:\n",
    "            if i < j:\n",
    "                constraints.append(x[i,j])\n",
    "                constraints2.append(x[j,i])\n",
    "            else:\n",
    "                constraints.append(x[i,j])\n",
    "                constraints2.append(x[j,i])\n",
    "        elif (i,j) in x:\n",
    "            constraints.append(x[i,j])\n",
    "        elif (j,i) in x:\n",
    "            constraints.append(x[j,i])\n",
    "    model.add_constr((xsum(constraints) - xsum(constraints2)) >= d[i])"
   ]
  },
  {
   "cell_type": "markdown",
   "metadata": {},
   "source": [
    "Then we add the constraint regarding each power plant. Sum of edges going out from power plant is equal or less than the power it produces."
   ]
  },
  {
   "cell_type": "code",
   "execution_count": 97,
   "metadata": {},
   "outputs": [],
   "source": [
    "for j in J:\n",
    "    constraints = []\n",
    "    for i in I:\n",
    "        if (i,j) in x:\n",
    "            constraints.append(x[i,j])\n",
    "        elif (j,i) in x:\n",
    "            constraints.append(x[j,i])\n",
    "    model.add_constr(xsum(constraints) <= M[j])"
   ]
  },
  {
   "cell_type": "markdown",
   "metadata": {},
   "source": [
    "Final constraint is on power lines. Each power line cannot transmit any power hiher than 1000MW because of physical restrictions."
   ]
  },
  {
   "cell_type": "code",
   "execution_count": 98,
   "metadata": {},
   "outputs": [],
   "source": [
    "for (i,j) in x:\n",
    "    model.add_constr(x[i,j] <= 1000)"
   ]
  },
  {
   "cell_type": "markdown",
   "metadata": {},
   "source": [
    "The final step is to define the cost function which is multiplication of power of each line in the lenght of it divided by number of bundles."
   ]
  },
  {
   "cell_type": "code",
   "execution_count": 99,
   "metadata": {
    "scrolled": true
   },
   "outputs": [],
   "source": [
    "costs = []\n",
    "for (i,j) in x:\n",
    "    if i < j:\n",
    "        costs.append(c[i,j] * x[i,j] / B[i,j])\n",
    "    else:\n",
    "        costs.append(c[j,i] * x[i,j] / B[j,i])"
   ]
  },
  {
   "cell_type": "markdown",
   "metadata": {},
   "source": [
    "Finally we optimize the cost function and check if our solution satisfies out constraints. In this case solution satisfies all constraints and you can check it in solution.jpg file."
   ]
  },
  {
   "cell_type": "code",
   "execution_count": 100,
   "metadata": {},
   "outputs": [
    {
     "name": "stdout",
     "output_type": "stream",
     "text": [
      "OptimizationStatus.OPTIMAL\n",
      "Minimum cost is 1604267.5.\n"
     ]
    }
   ],
   "source": [
    "model.objective = mip.minimize(sum(costs))\n",
    "print(model.optimize())\n",
    "print(\"Minimum cost is \" + str(model.objective_value) + \".\")"
   ]
  },
  {
   "cell_type": "markdown",
   "metadata": {},
   "source": [
    "We can check the value of ach variable in the optimum point."
   ]
  },
  {
   "cell_type": "code",
   "execution_count": 101,
   "metadata": {},
   "outputs": [
    {
     "name": "stdout",
     "output_type": "stream",
     "text": [
      "The power transmiting from 1 to 4 : 456.0\n",
      "The power transmiting from 2 to 4 : 0.0\n",
      "The power transmiting from 3 to 4 : 1000.0\n",
      "The power transmiting from 5 to 6 : 223.0\n",
      "The power transmiting from 7 to 10 : 334.0\n",
      "The power transmiting from 10 to 19 : 1000.0\n",
      "The power transmiting from 8 to 11 : 602.0\n",
      "The power transmiting from 9 to 11 : 203.0\n",
      "The power transmiting from 11 to 12 : 250.0\n",
      "The power transmiting from 11 to 13 : 1000.0\n",
      "The power transmiting from 13 to 15 : 1000.0\n",
      "The power transmiting from 16 to 17 : 921.0\n",
      "The power transmiting from 17 to 18 : 479.0\n",
      "The power transmiting from 20 to 23 : 330.0\n",
      "The power transmiting from 3 to 21 : 1000.0\n",
      "The power transmiting from 21 to 22 : 0.0\n",
      "The power transmiting from 6 to 4 : 0.0\n",
      "The power transmiting from 4 to 6 : 0.0\n",
      "The power transmiting from 18 to 4 : 0.0\n",
      "The power transmiting from 4 to 18 : 198.0\n",
      "The power transmiting from 21 to 4 : 0.0\n",
      "The power transmiting from 4 to 21 : 56.0\n",
      "The power transmiting from 10 to 6 : 0.0\n",
      "The power transmiting from 6 to 10 : 244.0\n",
      "The power transmiting from 14 to 10 : 300.0\n",
      "The power transmiting from 10 to 14 : 0.0\n",
      "The power transmiting from 15 to 10 : 407.0\n",
      "The power transmiting from 10 to 15 : 0.0\n",
      "The power transmiting from 18 to 10 : 0.0\n",
      "The power transmiting from 10 to 18 : 0.0\n",
      "The power transmiting from 14 to 11 : 829.0\n",
      "The power transmiting from 11 to 14 : 0.0\n",
      "The power transmiting from 15 to 11 : 1000.0\n",
      "The power transmiting from 11 to 15 : 0.0\n",
      "The power transmiting from 15 to 14 : 0.0\n",
      "The power transmiting from 14 to 15 : 0.0\n",
      "The power transmiting from 16 to 15 : 0.0\n",
      "The power transmiting from 15 to 16 : 510.0\n",
      "The power transmiting from 18 to 16 : 0.0\n",
      "The power transmiting from 16 to 18 : 0.0\n",
      "The power transmiting from 20 to 18 : 0.0\n",
      "The power transmiting from 18 to 20 : 0.0\n",
      "The power transmiting from 21 to 18 : 0.0\n",
      "The power transmiting from 18 to 21 : 0.0\n",
      "The power transmiting from 21 to 20 : 0.0\n",
      "The power transmiting from 20 to 21 : 619.0\n"
     ]
    }
   ],
   "source": [
    "for (i,j) in x:\n",
    "    print(\"The power transmiting from \" + str(i) + \" to \" + str(j) + \" : \" +  str(x[i,j].x))"
   ]
  },
  {
   "cell_type": "code",
   "execution_count": null,
   "metadata": {},
   "outputs": [],
   "source": []
  },
  {
   "cell_type": "code",
   "execution_count": null,
   "metadata": {},
   "outputs": [],
   "source": []
  }
 ],
 "metadata": {
  "kernelspec": {
   "display_name": "Python 3",
   "language": "python",
   "name": "python3"
  },
  "language_info": {
   "codemirror_mode": {
    "name": "ipython",
    "version": 3
   },
   "file_extension": ".py",
   "mimetype": "text/x-python",
   "name": "python",
   "nbconvert_exporter": "python",
   "pygments_lexer": "ipython3",
   "version": "3.7.4"
  }
 },
 "nbformat": 4,
 "nbformat_minor": 2
}
