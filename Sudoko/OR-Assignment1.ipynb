{
 "cells": [
  {
   "cell_type": "markdown",
   "metadata": {},
   "source": [
    "# Operation Research Fall 99 <img src = 'https://ece.ut.ac.ir/cict-theme/images/footer-logo.png' alt=\"Tehran-University-Logo\" width=\"150\" height=\"150\" align=\"right\">\n",
    "## Assignment 1 : Sudoku\n",
    "### Dr. Mohammad Shokri\n",
    "### By Omid Vaheb"
   ]
  },
  {
   "cell_type": "markdown",
   "metadata": {},
   "source": [
    "### Question:\n",
    "In this assignment I modeled Sudoko game as an optimization problem and solved it using pulp library of python.\n",
    "\n",
    "### Sudoko:\n",
    "Sudoku is known as a puzzle of numbers, is a puzzle based on logic. The goal of this game is to add numbers from 1 to 9 in a 9×9 table which includes 9, 3×3 tables called regions. At the start, numbers are preprepared in the table. Every region, Row, and column must include numbers from 1 to 9 without repetition.\n",
    "\n",
    "### Modeling:\n",
    "If you can formulate a problem in terms of a linear objective function and linear inequality constraints, linear programming (LP) is a powerful tool for finding its optimal solutions. In this problem we can use ILP or integer linear programming which is a linear programming in which its variables are all integers. \n",
    "\n",
    "##### Objective Function:\n",
    "Since there is no solution to a sudoku that is better than another, I define objective function with zero value and the real challenge is to find any feasible set.\n",
    "\n",
    "##### Linear Constraints:\n",
    "Sudoku consists of filling in a nine-by-nine grid, such that each row, column, and three-by-three subgrid contains only one of an integer value. Since there are nine values each box can be filled with, and we are constrained along each of the nine rows and nine columns, we have 9³ = 729 parameters. Below we will index these values in x by v (value), r (row), and c (column).\n",
    "More concretely, we can formulate our objective function and linear constraints as follows:\n",
    "\n",
    "<img src = 'https://miro.medium.com/max/576/1*DvDxo0HQ0XkP7tmIiYOIGQ@2x.png' alt=\"formula\" width=\"800\" height=\"800\" align=\"center\">\n",
    "\n",
    "The first constraint requires that each cell contains one value. The second and third constraints maintain columns and rows conditions. The last constraint fixes that only one of a value is found in each subgrid. The original starting state of each non-empty cell is the last constrait of this problem."
   ]
  },
  {
   "cell_type": "markdown",
   "metadata": {},
   "source": [
    "Now we implement our solution for this problem in python. The first step is to install and import required library."
   ]
  },
  {
   "cell_type": "code",
   "execution_count": 1,
   "metadata": {},
   "outputs": [],
   "source": [
    "#!pip install pulp\n",
    "from pulp import *"
   ]
  },
  {
   "cell_type": "markdown",
   "metadata": {},
   "source": [
    "Now we define available values for each cell an also define boxes or sub-grids for ease of access along the solution."
   ]
  },
  {
   "cell_type": "code",
   "execution_count": 2,
   "metadata": {},
   "outputs": [],
   "source": [
    "Vals = [\"1\", \"2\", \"3\", \"4\", \"5\", \"6\", \"7\", \"8\", \"9\"]\n",
    "Rows = [\"1\", \"2\", \"3\", \"4\", \"5\", \"6\", \"7\", \"8\", \"9\"]\n",
    "Cols = [\"1\", \"2\", \"3\", \"4\", \"5\", \"6\", \"7\", \"8\", \"9\"]\n",
    "\n",
    "Boxes = []\n",
    "for i in range(3):\n",
    "    for j in range(3):\n",
    "        Boxes += [[(Rows[3 * i + k], Cols[3 * j + l]) for k in range(3) for l in range(3)]]"
   ]
  },
  {
   "cell_type": "markdown",
   "metadata": {},
   "source": [
    "The next step is to create variables of problem and defining objective function."
   ]
  },
  {
   "cell_type": "code",
   "execution_count": 3,
   "metadata": {},
   "outputs": [
    {
     "name": "stderr",
     "output_type": "stream",
     "text": [
      "D:\\Anaconda\\lib\\site-packages\\pulp\\pulp.py:1198: UserWarning: Spaces are not permitted in the name. Converted to '_'\n",
      "  warnings.warn(\"Spaces are not permitted in the name. Converted to '_'\")\n"
     ]
    }
   ],
   "source": [
    "prob = LpProblem(\"Sudoku Problem\", LpMinimize)\n",
    "choices = LpVariable.dicts(\"Choice\", (Vals, Rows, Cols), 0, 1, LpInteger)\n",
    "prob += 0, \"Arbitrary Objective Function\""
   ]
  },
  {
   "cell_type": "markdown",
   "metadata": {},
   "source": [
    "Now we define the constraint ensuring that only one value can be in each square is created."
   ]
  },
  {
   "cell_type": "code",
   "execution_count": 4,
   "metadata": {},
   "outputs": [],
   "source": [
    "for r in Rows:\n",
    "    for c in Cols:\n",
    "        prob += lpSum([choices[v][r][c] for v in Vals]) == 1, \"\""
   ]
  },
  {
   "cell_type": "markdown",
   "metadata": {},
   "source": [
    "Row, column and box constraints are also added for each value."
   ]
  },
  {
   "cell_type": "code",
   "execution_count": 5,
   "metadata": {},
   "outputs": [],
   "source": [
    "for v in Vals:\n",
    "    for r in Rows:\n",
    "        prob += lpSum([choices[v][r][c] for c in Cols]) == 1,\"\"\n",
    "        \n",
    "    for c in Cols:\n",
    "        prob += lpSum([choices[v][r][c] for r in Rows]) == 1,\"\"\n",
    "\n",
    "    for b in Boxes:\n",
    "        prob += lpSum([choices[v][r][c] for (r,c) in b]) == 1,\"\""
   ]
  },
  {
   "cell_type": "markdown",
   "metadata": {},
   "source": [
    "The final step before solving the problem is to define constraints regarding starting values in cells. We read them from a text file and add them to problem."
   ]
  },
  {
   "cell_type": "code",
   "execution_count": 6,
   "metadata": {},
   "outputs": [],
   "source": [
    "# The starting numbers are entered as constraints. Note: choices is indexed by value, row, column.\n",
    "f = open(\"input.txt\", \"r\")\n",
    "N = int(f.readline())\n",
    "A = []\n",
    "for i in range(N):\n",
    "    A.append([m for m in f.readline().split()])\n",
    "f.close()\n",
    "for k in A:\n",
    "    prob += choices[k[0]][k[1]][k[2]] == 1,\"\""
   ]
  },
  {
   "cell_type": "markdown",
   "metadata": {},
   "source": [
    "The last step is to solve problem using pulp and write it in a file."
   ]
  },
  {
   "cell_type": "code",
   "execution_count": 7,
   "metadata": {},
   "outputs": [
    {
     "name": "stdout",
     "output_type": "stream",
     "text": [
      "+-------+-------+-------+\n",
      "| 1 8 4 | 5 6 3 | 9 7 2 |\n",
      "| 6 2 7 | 1 9 8 | 5 3 4 |\n",
      "| 5 9 3 | 7 2 4 | 8 1 6 |\n",
      "+-------+-------+-------+\n",
      "| 4 7 9 | 2 3 5 | 6 8 1 |\n",
      "| 3 5 8 | 6 7 1 | 4 2 9 |\n",
      "| 2 1 6 | 4 8 9 | 7 5 3 |\n",
      "+-------+-------+-------+\n",
      "| 9 6 5 | 8 1 2 | 3 4 7 |\n",
      "| 8 3 1 | 9 4 7 | 2 6 5 |\n",
      "| 7 4 2 | 3 5 6 | 1 9 8 |\n",
      "+-------+-------+-------+\n",
      "Solution is also written to output.txt\n"
     ]
    }
   ],
   "source": [
    "prob.solve()\n",
    "output = open('output.txt','w')\n",
    "for r in Rows:\n",
    "    temp = \"\"\n",
    "    if r == \"1\" or r == \"4\" or r == \"7\":\n",
    "        output.write(\"+-------+-------+-------+\\n\")\n",
    "        print(\"+-------+-------+-------+\")\n",
    "    for c in Cols:\n",
    "        for v in Vals:\n",
    "            if value(choices[v][r][c]) == 1:       \n",
    "                if c == \"1\" or c == \"4\" or c ==\"7\":\n",
    "                    output.write(\"| \")\n",
    "                    temp += \"| \"\n",
    "                output.write(v + \" \")\n",
    "                temp += v + \" \"\n",
    "                if c == \"9\":\n",
    "                    output.write(\"|\\n\")\n",
    "                    temp += \"|\"\n",
    "    print(temp)\n",
    "output.write(\"+-------+-------+-------+\")\n",
    "print(\"+-------+-------+-------+\")\n",
    "output.close()\n",
    "print(\"Solution is also written to output.txt\")"
   ]
  }
 ],
 "metadata": {
  "kernelspec": {
   "display_name": "Python 3",
   "language": "python",
   "name": "python3"
  },
  "language_info": {
   "codemirror_mode": {
    "name": "ipython",
    "version": 3
   },
   "file_extension": ".py",
   "mimetype": "text/x-python",
   "name": "python",
   "nbconvert_exporter": "python",
   "pygments_lexer": "ipython3",
   "version": "3.7.7"
  }
 },
 "nbformat": 4,
 "nbformat_minor": 4
}
