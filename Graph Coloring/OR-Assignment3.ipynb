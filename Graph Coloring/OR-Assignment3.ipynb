{
 "cells": [
  {
   "cell_type": "markdown",
   "metadata": {},
   "source": [
    "# Operation Research Fall 99 <img src = 'https://ece.ut.ac.ir/cict-theme/images/footer-logo.png' alt=\"Tehran-University-Logo\" width=\"150\" height=\"150\" align=\"right\">\n",
    "## Assignment 3 : Graph Coloring\n",
    "### Dr. Mohammad Shokri\n",
    "### By Omid Vaheb"
   ]
  },
  {
   "cell_type": "markdown",
   "metadata": {},
   "source": [
    "### Question:\n",
    "In this assignment I modeled graph coloring problem as a linear programming problem and solved it using PULP library of python.\n",
    "\n",
    "### Graph Coloring:\n",
    "The chromatic number of a graph G is the smallest number of colors needed to color the vertices of G so that no two adjacent vertices share the same color. In another words, A vertex coloring is an assignment of labels or colors to each vertex of a graph such that no edge connects two identically colored vertices and the most common type of vertex coloring seeks to minimize the number of colors for a given graph; Such a coloring is known as a minimum vertex coloring, and the minimum number of colors which with the vertices of a graph G may be colored is called the chromatic number.\n",
    "<img src=\"Images/1.JPG\">\n",
    "\n",
    "### Modeling:\n",
    "If you can formulate a problem in terms of a linear objective function and linear inequality constraints, linear programming (LP) is a powerful tool for finding its optimal solutions. We have to minimize number of colors or labels to color a graph in a way that none of the adjacent nodes have same color. Modeling of this problem requires N (number of vertices) variables named Xi.\n",
    "\n",
    "##### Linear Constraints:\n",
    "We have to define some constraints regarding having different colors for adjacent nodes and some constraints regarding having color for all nodes.\n",
    "\n",
    "##### Objective Function:\n",
    "The objective function of this problem is sum of the elements of the last matrix in addition to maximum of first 2 matrixes in other words:\n",
    "<img src=\"Images/4.JPG\">\n",
    "\n",
    "We have to minimize value of this function using PULP library."
   ]
  },
  {
   "cell_type": "markdown",
   "metadata": {},
   "source": [
    "At first we import required libraries."
   ]
  },
  {
   "cell_type": "code",
   "execution_count": 3,
   "metadata": {},
   "outputs": [],
   "source": [
    "import numpy as np\n",
    "#!pip install pulp\n",
    "from pulp import *"
   ]
  },
  {
   "cell_type": "markdown",
   "metadata": {},
   "source": [
    "Now we define our graph by getting number of edges and vertices and all of its edges."
   ]
  },
  {
   "cell_type": "code",
   "execution_count": 39,
   "metadata": {},
   "outputs": [
    {
     "name": "stdout",
     "output_type": "stream",
     "text": [
      "4 3\n",
      "0 1\n",
      "1 2\n",
      "1 3\n"
     ]
    }
   ],
   "source": [
    "N, V = map(int, input().split())\n",
    "edges = []\n",
    "for i in range(V):\n",
    "    u, v = map(int, input().split())\n",
    "    edges.append([u, v])"
   ]
  },
  {
   "cell_type": "code",
   "execution_count": 40,
   "metadata": {},
   "outputs": [
    {
     "data": {
      "text/plain": [
       "[[0, 1], [1, 2], [1, 3]]"
      ]
     },
     "execution_count": 40,
     "metadata": {},
     "output_type": "execute_result"
    }
   ],
   "source": [
    "edges"
   ]
  },
  {
   "cell_type": "markdown",
   "metadata": {},
   "source": [
    "The next step is to define Linear Programming problem using LpProblem command."
   ]
  },
  {
   "cell_type": "code",
   "execution_count": 41,
   "metadata": {},
   "outputs": [],
   "source": [
    "prob = LpProblem(\"Graph Coloring Problem\", LpMinimize)"
   ]
  },
  {
   "cell_type": "markdown",
   "metadata": {},
   "source": [
    "Then I defined N variables. One for each vertix in the graph:"
   ]
  },
  {
   "cell_type": "code",
   "execution_count": 48,
   "metadata": {},
   "outputs": [],
   "source": [
    "variables = []\n",
    "for i in range(int(N)):\n",
    "    variables.append(LpVariable(\"x\" + str(i), lowBound = 0))"
   ]
  },
  {
   "cell_type": "markdown",
   "metadata": {},
   "source": [
    "Now I define some binary \"and\" constraints regarding each edge in order to prevnt same color in adjacent nodes."
   ]
  },
  {
   "cell_type": "code",
   "execution_count": 43,
   "metadata": {},
   "outputs": [],
   "source": [
    "constraints = []\n",
    "for i in range(int(V)):\n",
    "    constraint = [LpVariable(\"constraint\" + str(i) + \"0\", cat = 'Binary'), LpVariable(\"constraint\" + str(i) + \"1\", cat = 'Binary')]\n",
    "    constraints.append(constraint)"
   ]
  },
  {
   "cell_type": "markdown",
   "metadata": {},
   "source": [
    "Then I defined the cost function and its type."
   ]
  },
  {
   "cell_type": "code",
   "execution_count": 44,
   "metadata": {},
   "outputs": [],
   "source": [
    "lpMax = LpVariable(\"lpMax\", lowBound = 0)\n",
    "prob += lpMax"
   ]
  },
  {
   "cell_type": "markdown",
   "metadata": {},
   "source": [
    "Now I defined the relation between cost function and constaints."
   ]
  },
  {
   "cell_type": "code",
   "execution_count": 45,
   "metadata": {},
   "outputs": [],
   "source": [
    "for i in range(int(N)):\n",
    "    prob += lpMax >= variables[i]"
   ]
  },
  {
   "cell_type": "markdown",
   "metadata": {},
   "source": [
    "The last step before solving lp problem is to add tge constraints told above to the solver."
   ]
  },
  {
   "cell_type": "code",
   "execution_count": 46,
   "metadata": {},
   "outputs": [],
   "source": [
    "for i in range(int(V)):\n",
    "    prob += variables[edges[i][0]] - variables[edges[i][1]] - (N * (1 - constraints[i][0])) <= -1\n",
    "    prob += variables[edges[i][1]] - variables[edges[i][0]] - (N * (1 - constraints[i][1])) <= -1\n",
    "    prob += constraints[i][0] + constraints[i][1] >= 1"
   ]
  },
  {
   "cell_type": "markdown",
   "metadata": {},
   "source": [
    "Finally we find the answer using solve command."
   ]
  },
  {
   "cell_type": "code",
   "execution_count": 47,
   "metadata": {},
   "outputs": [
    {
     "name": "stdout",
     "output_type": "stream",
     "text": [
      "Chromatic number of this graph is 2.\n"
     ]
    }
   ],
   "source": [
    "prob.solve()\n",
    "print(\"Chromatic number of this graph is %d.\"%(value(prob.objective) + 1))"
   ]
  },
  {
   "cell_type": "code",
   "execution_count": null,
   "metadata": {},
   "outputs": [],
   "source": []
  },
  {
   "cell_type": "code",
   "execution_count": null,
   "metadata": {},
   "outputs": [],
   "source": []
  }
 ],
 "metadata": {
  "kernelspec": {
   "display_name": "Python 3",
   "language": "python",
   "name": "python3"
  },
  "language_info": {
   "codemirror_mode": {
    "name": "ipython",
    "version": 3
   },
   "file_extension": ".py",
   "mimetype": "text/x-python",
   "name": "python",
   "nbconvert_exporter": "python",
   "pygments_lexer": "ipython3",
   "version": "3.7.4"
  }
 },
 "nbformat": 4,
 "nbformat_minor": 2
}
